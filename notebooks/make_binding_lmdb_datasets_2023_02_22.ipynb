{
 "cells": [
  {
   "cell_type": "code",
   "execution_count": 1,
   "metadata": {},
   "outputs": [],
   "source": [
    "import numpy as np\n",
    "import pandas as pd\n",
    "import os\n",
    "import random\n",
    "import atom3d.datasets.datasets as da\n",
    "\n",
    "import sys\n",
    "sys.path.append('../')\n",
    "import gvp\n",
    "import gvp.atom3d as gvp_atom3d\n",
    "import esm\n"
   ]
  },
  {
   "attachments": {},
   "cell_type": "markdown",
   "metadata": {},
   "source": [
    "#### Load DIPS dataset (from GGN meets pLM, but really I think it's from the GVP paper)"
   ]
  },
  {
   "cell_type": "code",
   "execution_count": 2,
   "metadata": {},
   "outputs": [],
   "source": [
    "dataset = da.load_dataset('../data/PPI/DIPS-split/data/test', 'lmdb')"
   ]
  },
  {
   "attachments": {},
   "cell_type": "markdown",
   "metadata": {},
   "source": [
    "#### Run through the data and randomly swap one chain in order to make examples of non-binders.\n",
    "But also include the real binders in the dataset. Ultimately, we're doubling the size of the dataset."
   ]
  },
  {
   "cell_type": "code",
   "execution_count": 5,
   "metadata": {},
   "outputs": [
    {
     "name": "stdout",
     "output_type": "stream",
     "text": [
      "0 / 15268 0\n",
      "Dropped 0 pairs\n"
     ]
    }
   ],
   "source": [
    "precompute_plm_embeddings = True\n",
    "\n",
    "if precompute_plm_embeddings:\n",
    "    esm_model, alphabet = esm.pretrained.esm2_t33_650M_UR50D()\n",
    "    batch_converter = alphabet.get_batch_converter()\n",
    "    esm_model.eval()\n",
    "    esm_model = esm_model.to('cuda')\n",
    "\n",
    "cols = ['ensemble', 'subunit', 'structure', 'residue', 'resname', 'name','x', 'y', 'z']\n",
    "max_len = 800\n",
    "num_dropped = 0\n",
    "\n",
    "new_dataset = []\n",
    "\n",
    "for i, pair in enumerate(dataset):\n",
    "    if i % 1000 == 0:\n",
    "        print(i, '/', len(dataset), len(new_dataset))\n",
    "        print('Dropped', num_dropped, 'pairs')\n",
    "\n",
    "    p1 = pair['atoms_pairs'][cols]\n",
    "    p1 = p1[p1['name'] == 'CA']\n",
    "    subunits = p1['subunit'].unique()\n",
    "\n",
    "    # Max length check. If either chain is too long, drop the pair altogether\n",
    "    len_chain1 = len(p1[p1['subunit'] == subunits[0]])\n",
    "    len_chain2 = len(p1[p1['subunit'] == subunits[1]])\n",
    "    if (len_chain1 > max_len) | (len_chain2 > max_len):\n",
    "        num_dropped += 1\n",
    "        continue\n",
    "\n",
    "    subunit_p1 = random.choice(subunits)\n",
    "    chain_p1 = p1[p1['subunit'] == subunit_p1].reset_index(drop=True)\n",
    "\n",
    "    found_suitable_swap = False\n",
    "    search_step = 0\n",
    "    while not found_suitable_swap:\n",
    "        p2 = dataset[np.random.randint(len(dataset))]['atoms_pairs'][cols]\n",
    "        subunit_p2 = random.choice(p2['subunit'].unique())\n",
    "        if subunit_p2.split('.')[0] != subunit_p1.split('.')[0]:\n",
    "            chain_p2 = p2[p2['subunit'] == subunit_p2]\n",
    "            chain_p2 = chain_p2[chain_p2['name'] == 'CA'].reset_index(drop=True)\n",
    "\n",
    "            # Max length check. If the chain we're trying to swap is too long, try again.\n",
    "            if len(chain_p2) > max_len:\n",
    "                continue\n",
    "\n",
    "            # Construct the new pair that we assume are non-binders\n",
    "            new_pair = {'atoms_pairs': pd.concat([chain_p1, chain_p2])}\n",
    "            new_pair['bind'] = 0\n",
    "            new_pair['chain1_len'] = len(chain_p1)\n",
    "            new_pair['chain2_len'] = len(chain_p2)\n",
    "            new_pair['id'] = len(new_dataset)\n",
    "            if precompute_plm_embeddings:\n",
    "                new_pair['esm_emb_p1'] = pd.DataFrame(gvp_atom3d.get_plm_reps(chain_p1, esm_model, batch_converter, device='cuda').cpu().numpy())\n",
    "                new_pair['esm_emb_p2'] = pd.DataFrame(gvp_atom3d.get_plm_reps(chain_p2, esm_model, batch_converter, device='cuda').cpu().numpy())\n",
    "            else:\n",
    "                new_pair['esm_emb_p1'] = None\n",
    "                new_pair['esm_emb_p2'] = None\n",
    "\n",
    "            new_dataset.append(new_pair)\n",
    "            found_suitable_swap = True\n",
    "        \n",
    "        search_step += 1\n",
    "        if search_step == 20:\n",
    "            print('Could not find suitable swap for pair', i, subunit_p1.split('.')[0])\n",
    "            found_suitable_swap = True\n",
    "\n",
    "    original_pair = {'atoms_pairs': p1,\n",
    "          'bind': 1,\n",
    "          'id': len(new_dataset),\n",
    "          'chain1_len': len_chain1,\n",
    "          'chain2_len': len_chain2}\n",
    "    if precompute_plm_embeddings:\n",
    "        original_pair['esm_emb_p1'] = pd.DataFrame(gvp_atom3d.get_plm_reps(p1[p1['subunit'] == subunits[0]], esm_model, batch_converter, device='cuda').cpu().numpy())\n",
    "        original_pair['esm_emb_p2'] = pd.DataFrame(gvp_atom3d.get_plm_reps(p1[p1['subunit'] == subunits[1]], esm_model, batch_converter, device='cuda').cpu().numpy())\n",
    "    else:\n",
    "        original_pair['esm_emb_p1'] = None\n",
    "        original_pair['esm_emb_p2'] = None\n",
    "    new_dataset.append(original_pair)\n",
    "\n",
    "    if i == 200:\n",
    "        break\n"
   ]
  },
  {
   "attachments": {},
   "cell_type": "markdown",
   "metadata": {},
   "source": [
    "#### Write to a new LMDB file"
   ]
  },
  {
   "cell_type": "code",
   "execution_count": 6,
   "metadata": {},
   "outputs": [
    {
     "name": "stderr",
     "output_type": "stream",
     "text": [
      "100%|██████████| 402/402 [05:41<00:00,  1.18it/s]\n"
     ]
    }
   ],
   "source": [
    "save_fp = '../data/paul_PPbind_w_esm_emb/test'\n",
    "\n",
    "if not os.path.exists(save_fp):\n",
    "    os.makedirs(save_fp)\n",
    "\n",
    "da.make_lmdb_dataset(new_dataset, save_fp)"
   ]
  },
  {
   "cell_type": "code",
   "execution_count": null,
   "metadata": {},
   "outputs": [],
   "source": []
  },
  {
   "attachments": {},
   "cell_type": "markdown",
   "metadata": {},
   "source": [
    "#### Test it out"
   ]
  },
  {
   "cell_type": "code",
   "execution_count": 7,
   "metadata": {},
   "outputs": [],
   "source": [
    "dataset = da.load_dataset(save_fp, 'lmdb')\n",
    "t = dataset[0]"
   ]
  },
  {
   "cell_type": "code",
   "execution_count": 8,
   "metadata": {},
   "outputs": [
    {
     "data": {
      "text/plain": [
       "{'atoms_pairs':                               ensemble           subunit     structure  \\\n",
       " 0    1a05.pdb1.gz_1_A_1a05.pdb1.gz_1_B  1a05.pdb1.gz_1_A  1a05.pdb1.gz   \n",
       " 1    1a05.pdb1.gz_1_A_1a05.pdb1.gz_1_B  1a05.pdb1.gz_1_A  1a05.pdb1.gz   \n",
       " 2    1a05.pdb1.gz_1_A_1a05.pdb1.gz_1_B  1a05.pdb1.gz_1_A  1a05.pdb1.gz   \n",
       " 3    1a05.pdb1.gz_1_A_1a05.pdb1.gz_1_B  1a05.pdb1.gz_1_A  1a05.pdb1.gz   \n",
       " 4    1a05.pdb1.gz_1_A_1a05.pdb1.gz_1_B  1a05.pdb1.gz_1_A  1a05.pdb1.gz   \n",
       " ..                                 ...               ...           ...   \n",
       " 235  1e6d.pdb1.gz_1_H_1e6d.pdb1.gz_1_M  1e6d.pdb1.gz_1_H  1e6d.pdb1.gz   \n",
       " 236  1e6d.pdb1.gz_1_H_1e6d.pdb1.gz_1_M  1e6d.pdb1.gz_1_H  1e6d.pdb1.gz   \n",
       " 237  1e6d.pdb1.gz_1_H_1e6d.pdb1.gz_1_M  1e6d.pdb1.gz_1_H  1e6d.pdb1.gz   \n",
       " 238  1e6d.pdb1.gz_1_H_1e6d.pdb1.gz_1_M  1e6d.pdb1.gz_1_H  1e6d.pdb1.gz   \n",
       " 239  1e6d.pdb1.gz_1_H_1e6d.pdb1.gz_1_M  1e6d.pdb1.gz_1_H  1e6d.pdb1.gz   \n",
       " \n",
       "      residue resname name          x           y          z  \n",
       " 0          1     MET   CA   4.352000   21.981001  74.057999  \n",
       " 1          2     LYS   CA   5.067000   22.200001  70.320999  \n",
       " 2          3     LYS   CA   8.210000   20.777000  68.686996  \n",
       " 3          4     ILE   CA   9.718000   22.695000  65.773003  \n",
       " 4          5     ALA   CA  12.365000   20.988001  63.634998  \n",
       " ..       ...     ...  ...        ...         ...        ...  \n",
       " 235      246     PRO   CA -24.818001   96.954002  43.105000  \n",
       " 236      247     LYS   CA -26.104000  100.098000  41.334999  \n",
       " 237      248     ARG   CA -23.728001   99.842003  38.338001  \n",
       " 238      249     LYS   CA -25.478001   98.598999  35.159000  \n",
       " 239      250     SER   CA -23.056999   97.043999  32.653999  \n",
       " \n",
       " [597 rows x 9 columns],\n",
       " 'bind': 0,\n",
       " 'chain1_len': 357,\n",
       " 'chain2_len': 240,\n",
       " 'id': 0,\n",
       " 'esm_emb_p1':          0         1         2         3         4         5         6     \\\n",
       " 0    0.048817 -0.011151 -0.123115 -0.072163 -0.054352 -0.051913  0.542169   \n",
       " 1   -0.100299 -0.068030 -0.208488 -0.046722 -0.041735  0.161974 -0.158665   \n",
       " 2   -0.018522 -0.127949 -0.199852 -0.218962 -0.190371  0.162295 -0.043746   \n",
       " 3    0.124946 -0.129135 -0.154624 -0.077014 -0.021266  0.057545 -0.042363   \n",
       " 4    0.193486 -0.224011 -0.214272 -0.194848 -0.099503 -0.127438 -0.015512   \n",
       " ..        ...       ...       ...       ...       ...       ...       ...   \n",
       " 352  0.055911  0.100340  0.167790 -0.229920  0.100803  0.101575  0.033929   \n",
       " 353  0.112229  0.048488  0.140553  0.047966  0.280783  0.017676 -0.011123   \n",
       " 354  0.012344 -0.187023  0.004589  0.048210  0.124583  0.160147  0.116682   \n",
       " 355  0.001791 -0.248581  0.103189 -0.101387  0.031593 -0.085824 -0.095086   \n",
       " 356 -0.101844 -0.173209  0.006932  0.035933  0.054556  0.021106  0.050468   \n",
       " \n",
       "          7         8         9     ...      1270      1271      1272  \\\n",
       " 0   -0.271848  0.022860  0.039109  ... -0.271847  0.003359  0.129488   \n",
       " 1   -0.213941 -0.003035 -0.201465  ... -0.133465 -0.021903 -0.121778   \n",
       " 2    0.092290  0.033070 -0.015936  ...  0.088915 -0.075095  0.061157   \n",
       " 3   -0.403179 -0.155248 -0.128762  ...  0.102666 -0.102737  0.118977   \n",
       " 4    0.152648  0.018104  0.011354  ...  0.310558 -0.076068  0.011577   \n",
       " ..        ...       ...       ...  ...       ...       ...       ...   \n",
       " 352 -0.233123  0.140518 -0.128591  ...  0.284246 -0.197153  0.118137   \n",
       " 353 -0.152845  0.025567  0.006384  ... -0.189498 -0.105737 -0.008820   \n",
       " 354  0.014505 -0.063052  0.027733  ... -0.121978 -0.164610  0.130512   \n",
       " 355  0.143518  0.086647  0.271422  ... -0.052005  0.061263  0.083353   \n",
       " 356  0.094977  0.155743 -0.022917  ... -0.180202  0.066872  0.188818   \n",
       " \n",
       "          1273      1274      1275      1276      1277      1278      1279  \n",
       " 0    0.115075  0.103030  0.210601 -0.050488 -0.056178  0.170726  0.162275  \n",
       " 1   -0.046037 -0.093340  0.183326  0.277863 -0.462367  0.068539  0.048128  \n",
       " 2    0.072208 -0.127844 -0.064738  0.167629 -0.261819 -0.053447 -0.010180  \n",
       " 3    0.111183  0.141686  0.041880  0.067655 -0.197599  0.231938  0.216987  \n",
       " 4   -0.090478 -0.200496  0.013986 -0.131366  0.162388 -0.152314  0.215417  \n",
       " ..        ...       ...       ...       ...       ...       ...       ...  \n",
       " 352  0.007360  0.245425  0.117570  0.031924 -0.168743 -0.067610  0.137098  \n",
       " 353  0.142371 -0.047517  0.042001  0.323563  0.019312  0.015655 -0.160366  \n",
       " 354 -0.057438 -0.107621 -0.147642 -0.032507 -0.081929 -0.056560 -0.022765  \n",
       " 355 -0.096904  0.014019 -0.191481  0.073203 -0.136537  0.010163 -0.023435  \n",
       " 356 -0.066265 -0.028923 -0.222315  0.047198 -0.292426 -0.098540  0.108589  \n",
       " \n",
       " [357 rows x 1280 columns],\n",
       " 'esm_emb_p2':          0         1         2         3         4         5         6     \\\n",
       " 0    0.119629 -0.090493 -0.173712  0.084828  0.074159 -0.118320  0.236137   \n",
       " 1   -0.046490  0.132137 -0.018957  0.018915 -0.105769  0.036891 -0.082060   \n",
       " 2   -0.049459  0.167169 -0.112452  0.042397 -0.138398  0.105128  0.131450   \n",
       " 3   -0.056947  0.093124 -0.074373  0.034010 -0.204509 -0.055302  0.027048   \n",
       " 4   -0.079324 -0.087810 -0.009667 -0.033072 -0.038772 -0.169591  0.232678   \n",
       " ..        ...       ...       ...       ...       ...       ...       ...   \n",
       " 235 -0.078400  0.148753  0.121683  0.142727 -0.045069 -0.116803 -0.058028   \n",
       " 236 -0.131434  0.292395 -0.064921  0.062883 -0.219595 -0.020734 -0.079175   \n",
       " 237 -0.043449  0.061053 -0.014270  0.039491 -0.148424  0.056934 -0.179219   \n",
       " 238 -0.093816  0.025747 -0.117879  0.132137 -0.211147  0.035195 -0.111503   \n",
       " 239  0.014047  0.113218 -0.095049  0.266231 -0.249142 -0.085354 -0.243861   \n",
       " \n",
       "          7         8         9     ...      1270      1271      1272  \\\n",
       " 0   -0.127527 -0.026785  0.021066  ... -0.178783 -0.119180  0.003562   \n",
       " 1    0.108751 -0.117757 -0.058059  ...  0.008706 -0.536156 -0.174876   \n",
       " 2    0.122288 -0.049873 -0.017344  ...  0.023316 -0.449680 -0.168489   \n",
       " 3    0.141086 -0.139094 -0.015294  ...  0.071200 -0.317662 -0.137613   \n",
       " 4    0.175802 -0.244862  0.054063  ...  0.136472 -0.418132 -0.069917   \n",
       " ..        ...       ...       ...  ...       ...       ...       ...   \n",
       " 235 -0.021047 -0.106817 -0.003868  ...  0.182307  0.118544  0.067099   \n",
       " 236 -0.159136 -0.094843 -0.027328  ...  0.039264 -0.012182 -0.050286   \n",
       " 237 -0.047261 -0.252125  0.034409  ...  0.251709 -0.163534 -0.176328   \n",
       " 238 -0.037959 -0.017545  0.033129  ...  0.094303 -0.120950  0.064581   \n",
       " 239  0.045777 -0.101158 -0.039358  ...  0.054255 -0.052611 -0.036588   \n",
       " \n",
       "          1273      1274      1275      1276      1277      1278      1279  \n",
       " 0    0.127650  0.289197  0.399187 -0.222111  0.271449 -0.095726 -0.044867  \n",
       " 1   -0.126257  0.225463  0.187838  0.060170  0.089874  0.157232 -0.180132  \n",
       " 2    0.030960  0.176159  0.129556 -0.157114  0.051393  0.127097 -0.322421  \n",
       " 3    0.299140 -0.011030  0.247913 -0.028224  0.154812 -0.114034 -0.226801  \n",
       " 4   -0.105884  0.118569  0.199993 -0.055696  0.164714 -0.041127 -0.033773  \n",
       " ..        ...       ...       ...       ...       ...       ...       ...  \n",
       " 235  0.089717 -0.039266 -0.002579  0.138033 -0.125188 -0.155427 -0.015279  \n",
       " 236  0.024464  0.021428 -0.078394  0.120740 -0.212853 -0.328938 -0.066345  \n",
       " 237  0.009779  0.153776 -0.139179  0.258156 -0.195125 -0.078132  0.047274  \n",
       " 238 -0.059011  0.133780 -0.105970  0.272990 -0.104146 -0.062527  0.007876  \n",
       " 239  0.090793 -0.216754 -0.046377  0.094210 -0.009870 -0.153604 -0.001604  \n",
       " \n",
       " [240 rows x 1280 columns],\n",
       " 'types': {'atoms_pairs': \"<class 'pandas.core.frame.DataFrame'>\",\n",
       "  'bind': \"<class 'int'>\",\n",
       "  'chain1_len': \"<class 'int'>\",\n",
       "  'chain2_len': \"<class 'int'>\",\n",
       "  'id': \"<class 'int'>\",\n",
       "  'esm_emb_p1': \"<class 'pandas.core.frame.DataFrame'>\",\n",
       "  'esm_emb_p2': \"<class 'pandas.core.frame.DataFrame'>\",\n",
       "  'types': \"<class 'dict'>\"},\n",
       " 'file_path': '/data/psample/GGNN_Meets_PLM/notebooks/../data/paul_PPbind_w_esm_emb/test'}"
      ]
     },
     "execution_count": 8,
     "metadata": {},
     "output_type": "execute_result"
    }
   ],
   "source": [
    "t"
   ]
  },
  {
   "cell_type": "code",
   "execution_count": null,
   "metadata": {},
   "outputs": [],
   "source": []
  }
 ],
 "metadata": {
  "kernelspec": {
   "display_name": "ggnn_plm",
   "language": "python",
   "name": "python3"
  },
  "language_info": {
   "codemirror_mode": {
    "name": "ipython",
    "version": 3
   },
   "file_extension": ".py",
   "mimetype": "text/x-python",
   "name": "python",
   "nbconvert_exporter": "python",
   "pygments_lexer": "ipython3",
   "version": "3.8.15"
  },
  "orig_nbformat": 4,
  "vscode": {
   "interpreter": {
    "hash": "6f6ffb250edf756f7d7925b127d7ff21dc271f8adbd876afc9790f943cb23826"
   }
  }
 },
 "nbformat": 4,
 "nbformat_minor": 2
}
