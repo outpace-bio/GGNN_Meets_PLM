{
 "cells": [
  {
   "cell_type": "code",
   "execution_count": 3,
   "metadata": {},
   "outputs": [],
   "source": [
    "from collections import defaultdict\n",
    "from functools import partial\n",
    "\n",
    "import numpy as np\n",
    "import os\n",
    "import sklearn.metrics as sk_metrics\n",
    "import time\n",
    "import torch\n",
    "import torch.nn as nn\n",
    "import torch_geometric\n",
    "# import tqdm\n",
    "from atom3d.datasets import LMDBDataset\n",
    "from atom3d.splits.splits import split_randomly\n",
    "from atom3d.util import metrics\n",
    "from torch.nn.utils.rnn import pad_sequence\n",
    "from types import SimpleNamespace\n",
    "\n",
    "sys.path.append('../')\n",
    "import gvp\n",
    "import gvp.atom3d\n",
    "from gvp import set_seed, Logger\n",
    "from egnn import egnn_clean as eg"
   ]
  },
  {
   "cell_type": "code",
   "execution_count": 4,
   "metadata": {},
   "outputs": [],
   "source": [
    "def get_datasets(task, gnn_model, lba_split=30, device='cpu'):\n",
    "    data_path = {'RES': 'atom3d-data/RES/raw/RES/data/', 'PPI': 'data/PPI/DIPS-split/data/', 'PSR': 'data/PSR/split-by-year/data/',\n",
    "                 'MSP': 'atom3d-data/MSP/splits/split-by-sequence-identity-30/data/', 'LEP': 'atom3d-data/LEP/splits/split-by-protein/data/',\n",
    "                 'LBA': f'data/LBA/split-by-sequence-identity-{lba_split}/data/', 'TOY': 'data/TOY/split-by-cath-topology/data/'}[task]      # TOY use the test dataset of RES\n",
    "\n",
    "    if task == 'RES':\n",
    "        split_path = 'atom3d-data/RES/splits/split-by-cath-topology/indices/'\n",
    "        dataset = partial(gvp.atom3d.RESDataset, data_path)\n",
    "        trainset = dataset(split_path=split_path + 'train_indices.txt')\n",
    "        valset = dataset(split_path=split_path + 'val_indices.txt')\n",
    "        testset = dataset(split_path=split_path + 'test_indices.txt')\n",
    "    elif task == 'PPI':\n",
    "        if args.model == 'molformer':\n",
    "            train_dataset, val_dataset, test_dataset = split_randomly(LMDBDataset(data_path + 'test'))\n",
    "            trainset = gvp.atom3d.PPIDataset(train_dataset, plm=args.plm)\n",
    "            valset = gvp.atom3d.PPIDataset(val_dataset, plm=args.plm)\n",
    "            testset = gvp.atom3d.PPIDataset(test_dataset, plm=args.plm)\n",
    "        else:\n",
    "            dataset = LMDBDataset(data_path + 'test', transform=gvp.atom3d.PPITransform(plm=args.plm, device=device))\n",
    "            trainset, valset, testset = split_randomly(dataset)\n",
    "    elif task == 'TOY':\n",
    "        train_dataset, val_dataset, test_dataset = split_randomly(LMDBDataset(data_path + 'test'))\n",
    "        if args.model == 'molformer':\n",
    "            trainset = gvp.atom3d.TOYDataset2(train_dataset, label=args.toy)\n",
    "            valset = gvp.atom3d.TOYDataset2(val_dataset, label=args.toy)\n",
    "            testset = gvp.atom3d.TOYDataset2(test_dataset, label=args.toy)\n",
    "        else:\n",
    "            trainset = gvp.atom3d.TOYDataset(train_dataset, label=args.toy, connection=args.connect)\n",
    "            valset = gvp.atom3d.TOYDataset(val_dataset, label=args.toy, connection=args.connect)\n",
    "            testset = gvp.atom3d.TOYDataset(test_dataset, label=args.toy, connection=args.connect)\n",
    "    else:\n",
    "        if task == 'PSR':\n",
    "            if args.model == 'molformer':\n",
    "                trainset = gvp.atom3d.PSRDataset(LMDBDataset(data_path + 'train'), plm=args.plm)\n",
    "                valset = gvp.atom3d.PSRDataset(LMDBDataset(data_path + 'val'), plm=args.plm)\n",
    "                testset = gvp.atom3d.PSRDataset(LMDBDataset(data_path + 'test'), plm=args.plm)\n",
    "                return trainset, valset, testset\n",
    "            transform = gvp.atom3d.PSRTransform(plm=args.plm)\n",
    "        elif task == 'LBA':\n",
    "            if args.model == 'molformer':\n",
    "                trainset = gvp.atom3d.LBADataset(LMDBDataset(data_path + 'train'), plm=args.plm)\n",
    "                valset = gvp.atom3d.LBADataset(LMDBDataset(data_path + 'val'), plm=args.plm)\n",
    "                testset = gvp.atom3d.LBADataset(LMDBDataset(data_path + 'test'), plm=args.plm)\n",
    "                return trainset, valset, testset\n",
    "            transform = gvp.atom3d.LBATransform(plm=args.plm)\n",
    "        else:\n",
    "            transform = {'MSP': gvp.atom3d.MSPTransform, 'LEP': gvp.atom3d.LEPTransform}[task]()\n",
    "        trainset = LMDBDataset(data_path + 'train', transform=transform)\n",
    "        valset = LMDBDataset(data_path + 'val', transform=transform)\n",
    "        testset = LMDBDataset(data_path + 'test', transform=transform)\n",
    "        print(len(trainset), len(valset), len(testset))\n",
    "    return trainset, valset, testset"
   ]
  },
  {
   "cell_type": "code",
   "execution_count": 8,
   "metadata": {},
   "outputs": [
    {
     "name": "stdout",
     "output_type": "stream",
     "text": [
      "2023-01-28 16:06:11,361 INFO 32059: Splitting dataset with 15268 entries.\n",
      "2023-01-28 16:06:11,362 INFO 32059: Size of the training set: 12216\n",
      "2023-01-28 16:06:11,363 INFO 32059: Size of the validation set: 1526\n",
      "2023-01-28 16:06:11,363 INFO 32059: Size of the test set: 1526\n"
     ]
    }
   ],
   "source": [
    "data_path = {'RES': 'atom3d-data/RES/raw/RES/data/', 'PPI': '../data/PPI/DIPS-split/data/', 'PSR': 'data/PSR/split-by-year/data/',\n",
    "                'MSP': 'atom3d-data/MSP/splits/split-by-sequence-identity-30/data/', 'LEP': 'atom3d-data/LEP/splits/split-by-protein/data/',\n",
    "                'LBA': f'data/LBA/split-by-sequence-identity-/data/', 'TOY': 'data/TOY/split-by-cath-topology/data/'} \n",
    "data_path = data_path['PPI']\n",
    "dataset = LMDBDataset(data_path + 'test', transform=gvp.atom3d.PPITransform(plm=1, device='cpu'))\n",
    "trainset, valset, testset = split_randomly(dataset)\n",
    "\n",
    "model = gvp.atom3d.PPIModel(plm=1)"
   ]
  },
  {
   "cell_type": "code",
   "execution_count": 21,
   "metadata": {},
   "outputs": [],
   "source": [
    "egnn = gvp.atom3d.BaseModel(plm=1)"
   ]
  },
  {
   "cell_type": "code",
   "execution_count": 18,
   "metadata": {},
   "outputs": [
    {
     "data": {
      "text/plain": [
       "(Data(x=[313, 3], edge_index=[2, 3228], atoms=[313], edge_s=[3228, 16], edge_v=[3228, 1, 3], label=[313], plm=[313, 1280]),\n",
       " Data(x=[313, 3], edge_index=[2, 3192], atoms=[313], edge_s=[3192, 16], edge_v=[3192, 1, 3], label=[313], plm=[313, 1280]))"
      ]
     },
     "execution_count": 18,
     "metadata": {},
     "output_type": "execute_result"
    }
   ],
   "source": [
    "t = trainset[1]\n",
    "t"
   ]
  },
  {
   "cell_type": "code",
   "execution_count": 23,
   "metadata": {},
   "outputs": [
    {
     "data": {
      "text/plain": [
       "Data(x=[313, 3], edge_index=[2, 3228], atoms=[313], edge_s=[3228, 16], edge_v=[3228, 1, 3], label=[313], plm=[313, 1280])"
      ]
     },
     "execution_count": 23,
     "metadata": {},
     "output_type": "execute_result"
    }
   ],
   "source": [
    "t[0]"
   ]
  },
  {
   "cell_type": "code",
   "execution_count": 22,
   "metadata": {},
   "outputs": [
    {
     "ename": "AttributeError",
     "evalue": "'NoneType' object has no attribute 'dim'",
     "output_type": "error",
     "traceback": [
      "\u001b[0;31m---------------------------------------------------------------------------\u001b[0m",
      "\u001b[0;31mAttributeError\u001b[0m                            Traceback (most recent call last)",
      "Cell \u001b[0;32mIn[22], line 1\u001b[0m\n\u001b[0;32m----> 1\u001b[0m egnn(t[\u001b[39m0\u001b[39;49m])\n",
      "File \u001b[0;32m/opt/conda/envs/ggnn_plm/lib/python3.8/site-packages/torch/nn/modules/module.py:1194\u001b[0m, in \u001b[0;36mModule._call_impl\u001b[0;34m(self, *input, **kwargs)\u001b[0m\n\u001b[1;32m   1190\u001b[0m \u001b[39m# If we don't have any hooks, we want to skip the rest of the logic in\u001b[39;00m\n\u001b[1;32m   1191\u001b[0m \u001b[39m# this function, and just call forward.\u001b[39;00m\n\u001b[1;32m   1192\u001b[0m \u001b[39mif\u001b[39;00m \u001b[39mnot\u001b[39;00m (\u001b[39mself\u001b[39m\u001b[39m.\u001b[39m_backward_hooks \u001b[39mor\u001b[39;00m \u001b[39mself\u001b[39m\u001b[39m.\u001b[39m_forward_hooks \u001b[39mor\u001b[39;00m \u001b[39mself\u001b[39m\u001b[39m.\u001b[39m_forward_pre_hooks \u001b[39mor\u001b[39;00m _global_backward_hooks\n\u001b[1;32m   1193\u001b[0m         \u001b[39mor\u001b[39;00m _global_forward_hooks \u001b[39mor\u001b[39;00m _global_forward_pre_hooks):\n\u001b[0;32m-> 1194\u001b[0m     \u001b[39mreturn\u001b[39;00m forward_call(\u001b[39m*\u001b[39;49m\u001b[39minput\u001b[39;49m, \u001b[39m*\u001b[39;49m\u001b[39m*\u001b[39;49mkwargs)\n\u001b[1;32m   1195\u001b[0m \u001b[39m# Do not call functions when jit is used\u001b[39;00m\n\u001b[1;32m   1196\u001b[0m full_backward_hooks, non_full_backward_hooks \u001b[39m=\u001b[39m [], []\n",
      "File \u001b[0;32m/data/psample/GGNN_Meets_PLM/notebooks/../gvp/atom3d.py:140\u001b[0m, in \u001b[0;36mBaseModel.forward\u001b[0;34m(self, batch, scatter_mean, dense)\u001b[0m\n\u001b[1;32m    137\u001b[0m     h_V \u001b[39m=\u001b[39m layer(h_V, batch\u001b[39m.\u001b[39medge_index, h_E)\n\u001b[1;32m    139\u001b[0m out \u001b[39m=\u001b[39m \u001b[39mself\u001b[39m\u001b[39m.\u001b[39mW_out(h_V)\n\u001b[0;32m--> 140\u001b[0m \u001b[39mif\u001b[39;00m scatter_mean: out \u001b[39m=\u001b[39m torch_scatter\u001b[39m.\u001b[39;49mscatter_mean(out, batch_id, dim\u001b[39m=\u001b[39;49m\u001b[39m0\u001b[39;49m)\n\u001b[1;32m    141\u001b[0m \u001b[39mif\u001b[39;00m dense: out \u001b[39m=\u001b[39m \u001b[39mself\u001b[39m\u001b[39m.\u001b[39mdense(out)\u001b[39m.\u001b[39msqueeze(\u001b[39m-\u001b[39m\u001b[39m1\u001b[39m)\n\u001b[1;32m    142\u001b[0m \u001b[39mreturn\u001b[39;00m out\n",
      "File \u001b[0;32m/opt/conda/envs/ggnn_plm/lib/python3.8/site-packages/torch_scatter/scatter.py:41\u001b[0m, in \u001b[0;36mscatter_mean\u001b[0;34m(src, index, dim, out, dim_size)\u001b[0m\n\u001b[1;32m     38\u001b[0m \u001b[39mdef\u001b[39;00m \u001b[39mscatter_mean\u001b[39m(src: torch\u001b[39m.\u001b[39mTensor, index: torch\u001b[39m.\u001b[39mTensor, dim: \u001b[39mint\u001b[39m \u001b[39m=\u001b[39m \u001b[39m-\u001b[39m\u001b[39m1\u001b[39m,\n\u001b[1;32m     39\u001b[0m                  out: Optional[torch\u001b[39m.\u001b[39mTensor] \u001b[39m=\u001b[39m \u001b[39mNone\u001b[39;00m,\n\u001b[1;32m     40\u001b[0m                  dim_size: Optional[\u001b[39mint\u001b[39m] \u001b[39m=\u001b[39m \u001b[39mNone\u001b[39;00m) \u001b[39m-\u001b[39m\u001b[39m>\u001b[39m torch\u001b[39m.\u001b[39mTensor:\n\u001b[0;32m---> 41\u001b[0m     out \u001b[39m=\u001b[39m scatter_sum(src, index, dim, out, dim_size)\n\u001b[1;32m     42\u001b[0m     dim_size \u001b[39m=\u001b[39m out\u001b[39m.\u001b[39msize(dim)\n\u001b[1;32m     44\u001b[0m     index_dim \u001b[39m=\u001b[39m dim\n",
      "File \u001b[0;32m/opt/conda/envs/ggnn_plm/lib/python3.8/site-packages/torch_scatter/scatter.py:11\u001b[0m, in \u001b[0;36mscatter_sum\u001b[0;34m(src, index, dim, out, dim_size)\u001b[0m\n\u001b[1;32m      8\u001b[0m \u001b[39mdef\u001b[39;00m \u001b[39mscatter_sum\u001b[39m(src: torch\u001b[39m.\u001b[39mTensor, index: torch\u001b[39m.\u001b[39mTensor, dim: \u001b[39mint\u001b[39m \u001b[39m=\u001b[39m \u001b[39m-\u001b[39m\u001b[39m1\u001b[39m,\n\u001b[1;32m      9\u001b[0m                 out: Optional[torch\u001b[39m.\u001b[39mTensor] \u001b[39m=\u001b[39m \u001b[39mNone\u001b[39;00m,\n\u001b[1;32m     10\u001b[0m                 dim_size: Optional[\u001b[39mint\u001b[39m] \u001b[39m=\u001b[39m \u001b[39mNone\u001b[39;00m) \u001b[39m-\u001b[39m\u001b[39m>\u001b[39m torch\u001b[39m.\u001b[39mTensor:\n\u001b[0;32m---> 11\u001b[0m     index \u001b[39m=\u001b[39m broadcast(index, src, dim)\n\u001b[1;32m     12\u001b[0m     \u001b[39mif\u001b[39;00m out \u001b[39mis\u001b[39;00m \u001b[39mNone\u001b[39;00m:\n\u001b[1;32m     13\u001b[0m         size \u001b[39m=\u001b[39m \u001b[39mlist\u001b[39m(src\u001b[39m.\u001b[39msize())\n",
      "File \u001b[0;32m/opt/conda/envs/ggnn_plm/lib/python3.8/site-packages/torch_scatter/utils.py:7\u001b[0m, in \u001b[0;36mbroadcast\u001b[0;34m(src, other, dim)\u001b[0m\n\u001b[1;32m      5\u001b[0m \u001b[39mif\u001b[39;00m dim \u001b[39m<\u001b[39m \u001b[39m0\u001b[39m:\n\u001b[1;32m      6\u001b[0m     dim \u001b[39m=\u001b[39m other\u001b[39m.\u001b[39mdim() \u001b[39m+\u001b[39m dim\n\u001b[0;32m----> 7\u001b[0m \u001b[39mif\u001b[39;00m src\u001b[39m.\u001b[39;49mdim() \u001b[39m==\u001b[39m \u001b[39m1\u001b[39m:\n\u001b[1;32m      8\u001b[0m     \u001b[39mfor\u001b[39;00m _ \u001b[39min\u001b[39;00m \u001b[39mrange\u001b[39m(\u001b[39m0\u001b[39m, dim):\n\u001b[1;32m      9\u001b[0m         src \u001b[39m=\u001b[39m src\u001b[39m.\u001b[39munsqueeze(\u001b[39m0\u001b[39m)\n",
      "\u001b[0;31mAttributeError\u001b[0m: 'NoneType' object has no attribute 'dim'"
     ]
    }
   ],
   "source": [
    "egnn(t[0])"
   ]
  },
  {
   "cell_type": "code",
   "execution_count": 19,
   "metadata": {},
   "outputs": [
    {
     "data": {
      "text/plain": [
       "torch.Size([626])"
      ]
     },
     "execution_count": 19,
     "metadata": {},
     "output_type": "execute_result"
    }
   ],
   "source": [
    "model(t).shape"
   ]
  },
  {
   "cell_type": "code",
   "execution_count": null,
   "metadata": {},
   "outputs": [],
   "source": []
  }
 ],
 "metadata": {
  "kernelspec": {
   "display_name": "ggnn_plm",
   "language": "python",
   "name": "python3"
  },
  "language_info": {
   "codemirror_mode": {
    "name": "ipython",
    "version": 3
   },
   "file_extension": ".py",
   "mimetype": "text/x-python",
   "name": "python",
   "nbconvert_exporter": "python",
   "pygments_lexer": "ipython3",
   "version": "3.8.15"
  },
  "orig_nbformat": 4,
  "vscode": {
   "interpreter": {
    "hash": "6f6ffb250edf756f7d7925b127d7ff21dc271f8adbd876afc9790f943cb23826"
   }
  }
 },
 "nbformat": 4,
 "nbformat_minor": 2
}
